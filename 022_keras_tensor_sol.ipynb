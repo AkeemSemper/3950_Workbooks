{
 "cells": [
  {
   "cell_type": "code",
   "execution_count": 2,
   "metadata": {},
   "outputs": [],
   "source": [
    "import numpy as np\n",
    "import pandas as pd\n",
    "from keras.models import Sequential\n",
    "from keras.layers import Dense, Dropout\n",
    "from sklearn.model_selection import train_test_split\n",
    "from sklearn.metrics import mean_absolute_error\n",
    "import tensorflow as tf\n",
    "from keras.utils import np_utils\n",
    "\n",
    "import matplotlib as mpl\n",
    "import matplotlib.pyplot as plt\n",
    "from sklearn.decomposition import TruncatedSVD"
   ]
  },
  {
   "cell_type": "code",
   "execution_count": 3,
   "metadata": {},
   "outputs": [],
   "source": [
    "# Helper to plot loss\n",
    "def plot_loss(history):\n",
    "  plt.plot(history.history['loss'], label='loss')\n",
    "  plt.plot(history.history['val_loss'], label='val_loss')\n",
    "  plt.legend()\n",
    "  plt.grid(True)"
   ]
  },
  {
   "cell_type": "markdown",
   "metadata": {},
   "source": [
    "# Keras, TensorFlow, and Neural Network Regression\n",
    "\n",
    "As we have seen, neural networks aren't quite as complex as they appear at first, however we still generally don't want to have to build them from scratch very often. The libraries that we will primarily use for creating neural network models are Tensorflow and Keras. \n",
    "\n",
    "### Tensorflow\n",
    "\n",
    "Tensorflow, developed by Google, is one of the most popular libraries for neural networks. \n",
    "\n",
    "### Keras\n",
    "\n",
    "Keras is another package that provides an an API offering an easier to use interface to Tensorflow, allowing us to use it with code that is higher level, avoiding much of the linear math that can make Tensorflow frustrating. Since its introduction Keras has been wrapped in with Tensorflow and the two are normally now blended together as far as we are concerned. \n",
    "\n",
    "### Other Alternatives\n",
    "\n",
    "Keras and Tensorflow are not the only libraries of neural networks, the primary competitor to Tensorflow is PyTorch, which was developed by Facebook. PyTorch does pretty much the same thing as Tensorflow, we won't look at it. "
   ]
  },
  {
   "cell_type": "code",
   "execution_count": 4,
   "metadata": {},
   "outputs": [
    {
     "data": {
      "text/html": [
       "<div>\n",
       "<style scoped>\n",
       "    .dataframe tbody tr th:only-of-type {\n",
       "        vertical-align: middle;\n",
       "    }\n",
       "\n",
       "    .dataframe tbody tr th {\n",
       "        vertical-align: top;\n",
       "    }\n",
       "\n",
       "    .dataframe thead th {\n",
       "        text-align: right;\n",
       "    }\n",
       "</style>\n",
       "<table border=\"1\" class=\"dataframe\">\n",
       "  <thead>\n",
       "    <tr style=\"text-align: right;\">\n",
       "      <th></th>\n",
       "      <th>price</th>\n",
       "      <th>bedrooms</th>\n",
       "      <th>bathrooms</th>\n",
       "      <th>sqft_living</th>\n",
       "      <th>sqft_lot</th>\n",
       "      <th>floors</th>\n",
       "      <th>waterfront</th>\n",
       "      <th>view</th>\n",
       "      <th>condition</th>\n",
       "      <th>grade</th>\n",
       "      <th>sqft_above</th>\n",
       "      <th>sqft_basement</th>\n",
       "      <th>yr_built</th>\n",
       "      <th>yr_renovated</th>\n",
       "      <th>zipcode</th>\n",
       "      <th>lat</th>\n",
       "      <th>long</th>\n",
       "      <th>sqft_living15</th>\n",
       "      <th>sqft_lot15</th>\n",
       "    </tr>\n",
       "  </thead>\n",
       "  <tbody>\n",
       "    <tr>\n",
       "      <th>21608</th>\n",
       "      <td>360000.0</td>\n",
       "      <td>3</td>\n",
       "      <td>2.50</td>\n",
       "      <td>1530</td>\n",
       "      <td>1131</td>\n",
       "      <td>3.0</td>\n",
       "      <td>0</td>\n",
       "      <td>0</td>\n",
       "      <td>3</td>\n",
       "      <td>8</td>\n",
       "      <td>1530</td>\n",
       "      <td>0</td>\n",
       "      <td>2009</td>\n",
       "      <td>0</td>\n",
       "      <td>98103</td>\n",
       "      <td>47.6993</td>\n",
       "      <td>-122.346</td>\n",
       "      <td>1530</td>\n",
       "      <td>1509</td>\n",
       "    </tr>\n",
       "    <tr>\n",
       "      <th>21609</th>\n",
       "      <td>400000.0</td>\n",
       "      <td>4</td>\n",
       "      <td>2.50</td>\n",
       "      <td>2310</td>\n",
       "      <td>5813</td>\n",
       "      <td>2.0</td>\n",
       "      <td>0</td>\n",
       "      <td>0</td>\n",
       "      <td>3</td>\n",
       "      <td>8</td>\n",
       "      <td>2310</td>\n",
       "      <td>0</td>\n",
       "      <td>2014</td>\n",
       "      <td>0</td>\n",
       "      <td>98146</td>\n",
       "      <td>47.5107</td>\n",
       "      <td>-122.362</td>\n",
       "      <td>1830</td>\n",
       "      <td>7200</td>\n",
       "    </tr>\n",
       "    <tr>\n",
       "      <th>21610</th>\n",
       "      <td>402101.0</td>\n",
       "      <td>2</td>\n",
       "      <td>0.75</td>\n",
       "      <td>1020</td>\n",
       "      <td>1350</td>\n",
       "      <td>2.0</td>\n",
       "      <td>0</td>\n",
       "      <td>0</td>\n",
       "      <td>3</td>\n",
       "      <td>7</td>\n",
       "      <td>1020</td>\n",
       "      <td>0</td>\n",
       "      <td>2009</td>\n",
       "      <td>0</td>\n",
       "      <td>98144</td>\n",
       "      <td>47.5944</td>\n",
       "      <td>-122.299</td>\n",
       "      <td>1020</td>\n",
       "      <td>2007</td>\n",
       "    </tr>\n",
       "    <tr>\n",
       "      <th>21611</th>\n",
       "      <td>400000.0</td>\n",
       "      <td>3</td>\n",
       "      <td>2.50</td>\n",
       "      <td>1600</td>\n",
       "      <td>2388</td>\n",
       "      <td>2.0</td>\n",
       "      <td>0</td>\n",
       "      <td>0</td>\n",
       "      <td>3</td>\n",
       "      <td>8</td>\n",
       "      <td>1600</td>\n",
       "      <td>0</td>\n",
       "      <td>2004</td>\n",
       "      <td>0</td>\n",
       "      <td>98027</td>\n",
       "      <td>47.5345</td>\n",
       "      <td>-122.069</td>\n",
       "      <td>1410</td>\n",
       "      <td>1287</td>\n",
       "    </tr>\n",
       "    <tr>\n",
       "      <th>21612</th>\n",
       "      <td>325000.0</td>\n",
       "      <td>2</td>\n",
       "      <td>0.75</td>\n",
       "      <td>1020</td>\n",
       "      <td>1076</td>\n",
       "      <td>2.0</td>\n",
       "      <td>0</td>\n",
       "      <td>0</td>\n",
       "      <td>3</td>\n",
       "      <td>7</td>\n",
       "      <td>1020</td>\n",
       "      <td>0</td>\n",
       "      <td>2008</td>\n",
       "      <td>0</td>\n",
       "      <td>98144</td>\n",
       "      <td>47.5941</td>\n",
       "      <td>-122.299</td>\n",
       "      <td>1020</td>\n",
       "      <td>1357</td>\n",
       "    </tr>\n",
       "  </tbody>\n",
       "</table>\n",
       "</div>"
      ],
      "text/plain": [
       "          price  bedrooms  bathrooms  sqft_living  sqft_lot  floors  \\\n",
       "21608  360000.0         3       2.50         1530      1131     3.0   \n",
       "21609  400000.0         4       2.50         2310      5813     2.0   \n",
       "21610  402101.0         2       0.75         1020      1350     2.0   \n",
       "21611  400000.0         3       2.50         1600      2388     2.0   \n",
       "21612  325000.0         2       0.75         1020      1076     2.0   \n",
       "\n",
       "       waterfront  view  condition  grade  sqft_above  sqft_basement  \\\n",
       "21608           0     0          3      8        1530              0   \n",
       "21609           0     0          3      8        2310              0   \n",
       "21610           0     0          3      7        1020              0   \n",
       "21611           0     0          3      8        1600              0   \n",
       "21612           0     0          3      7        1020              0   \n",
       "\n",
       "       yr_built  yr_renovated  zipcode      lat     long  sqft_living15  \\\n",
       "21608      2009             0    98103  47.6993 -122.346           1530   \n",
       "21609      2014             0    98146  47.5107 -122.362           1830   \n",
       "21610      2009             0    98144  47.5944 -122.299           1020   \n",
       "21611      2004             0    98027  47.5345 -122.069           1410   \n",
       "21612      2008             0    98144  47.5941 -122.299           1020   \n",
       "\n",
       "       sqft_lot15  \n",
       "21608        1509  \n",
       "21609        7200  \n",
       "21610        2007  \n",
       "21611        1287  \n",
       "21612        1357  "
      ]
     },
     "execution_count": 4,
     "metadata": {},
     "output_type": "execute_result"
    }
   ],
   "source": [
    "df = pd.read_csv(\"data/house_data.csv\")\n",
    "df.tail()"
   ]
  },
  {
   "cell_type": "code",
   "execution_count": 5,
   "metadata": {},
   "outputs": [
    {
     "name": "stdout",
     "output_type": "stream",
     "text": [
      "<class 'pandas.core.frame.DataFrame'>\n",
      "RangeIndex: 21613 entries, 0 to 21612\n",
      "Data columns (total 19 columns):\n",
      " #   Column         Non-Null Count  Dtype  \n",
      "---  ------         --------------  -----  \n",
      " 0   price          21613 non-null  float64\n",
      " 1   bedrooms       21613 non-null  int64  \n",
      " 2   bathrooms      21613 non-null  float64\n",
      " 3   sqft_living    21613 non-null  int64  \n",
      " 4   sqft_lot       21613 non-null  int64  \n",
      " 5   floors         21613 non-null  float64\n",
      " 6   waterfront     21613 non-null  int64  \n",
      " 7   view           21613 non-null  int64  \n",
      " 8   condition      21613 non-null  int64  \n",
      " 9   grade          21613 non-null  int64  \n",
      " 10  sqft_above     21613 non-null  int64  \n",
      " 11  sqft_basement  21613 non-null  int64  \n",
      " 12  yr_built       21613 non-null  int64  \n",
      " 13  yr_renovated   21613 non-null  int64  \n",
      " 14  zipcode        21613 non-null  int64  \n",
      " 15  lat            21613 non-null  float64\n",
      " 16  long           21613 non-null  float64\n",
      " 17  sqft_living15  21613 non-null  int64  \n",
      " 18  sqft_lot15     21613 non-null  int64  \n",
      "dtypes: float64(5), int64(14)\n",
      "memory usage: 3.1 MB\n"
     ]
    }
   ],
   "source": [
    "df.info()"
   ]
  },
  {
   "cell_type": "code",
   "execution_count": 6,
   "metadata": {},
   "outputs": [
    {
     "name": "stdout",
     "output_type": "stream",
     "text": [
      "(21613, 18) (21613, 1)\n"
     ]
    }
   ],
   "source": [
    "y = np.array(df[\"price\"]).reshape(-1,1)\n",
    "X = np.array(df.drop(columns={\"price\"}))\n",
    "print(X.shape, y.shape)\n",
    "X_train, X_test, y_train, y_test = train_test_split(X, y)"
   ]
  },
  {
   "cell_type": "markdown",
   "metadata": {},
   "source": [
    "## Create Model\n",
    "\n",
    "Creating a NN model is slightly different from the normal process that we are used to in sklearn. We need to do a little more work to set it up. \n",
    "\n",
    "### Create Model and Add Layers\n",
    "\n",
    "First we need to make a NN model, it comes \"empty\". We will use a sequential model, which is the most simple type but is less configurable (which we don't care about much right now). The limitation of sequential models is that they can only take in one tensor and only output one tensor. The other options here are \"functional\", which allows for the structure of the model to be configured, and \"model subclassing\", which allows you to build almost everything from scratch. \n",
    "\n",
    "#### Layers\n",
    "\n",
    "Next we need to add some layers. We will start simple with only two \"thinking\" layers, and one to do some processing. We can think of the layers roughly like steps of the sklearn pipeline, with data entering at the first layer and predictions flowing out of the final layer. \n",
    "\n",
    "In addition to \"normal\" neural network layers, there are many other types that can do all kinds of other stuff. One example we will use here is the normalization one at the front. This layer does exactly what you'd expect - it normalizes our data so the rest of the network can use it. The normalize layer will also automatically handle the 2D nature of the data that we are used to, so we don't need to worry about that aspect here. Other layers can do everything from regularization to image processing, they are also commonly inhierited for developers to create custom layers targeting specific tasks. We'll use a few of the other ones as we move through things. \n",
    "\n",
    "#### Dense Layers\n",
    "\n",
    "We'll use dense layers here. When adding the layer we need to specify a couple of things. One is the input dimensions - we need to tell the network what the shape of the incomming data is. \n",
    "\n",
    "The other argument is the units, which represents the output dimension. When using these Keras dense layers we don't need to specify each layer's input/output like we did when we made it by hand. We specify both, using units and input_dim, for the first layer that takes in the input; for subsequent layers we can just specify the output and Keras will automatically figure the rest out. \n",
    "\n",
    "Note that there is also an input layer that can be added, we can avoid the need for it by using the input_dim or input_shape as shown below. The two examples there do the same thing, since the input is flat - 18 features. If we are dealing with inputs that do not start out as flat, such as in an image, use the input_shape since you can specify all dimensions; we will see an example of this next time with some images. \n",
    "\n",
    "#### Activation Function\n",
    "\n",
    "For each of our layers we need to define which activation function to use. For now we will use the ReLU function, which is probably the most popular. We'll look at other ones later on. \n",
    "\n",
    "Note that we've left the activation function off of the final layer - we are doing regression so we want that raw value.\n",
    "\n",
    "#### Summary\n",
    "\n",
    "After we've constructed the model, the summary command give us, well, a summary. "
   ]
  },
  {
   "cell_type": "markdown",
   "metadata": {},
   "source": [
    "We are dealing with a bunch of numerical inputs here, so we can add a normalization layer at the front end. Like with sklearn, we want to fit the normalization to the training data only. "
   ]
  },
  {
   "cell_type": "code",
   "execution_count": 7,
   "metadata": {},
   "outputs": [
    {
     "name": "stderr",
     "output_type": "stream",
     "text": [
      "2022-03-17 12:18:40.788447: I tensorflow/core/platform/cpu_feature_guard.cc:151] This TensorFlow binary is optimized with oneAPI Deep Neural Network Library (oneDNN) to use the following CPU instructions in performance-critical operations:  AVX2 AVX512F FMA\n",
      "To enable them in other operations, rebuild TensorFlow with the appropriate compiler flags.\n"
     ]
    },
    {
     "name": "stdout",
     "output_type": "stream",
     "text": [
      "Model: \"sequential\"\n",
      "_________________________________________________________________\n",
      " Layer (type)                Output Shape              Param #   \n",
      "=================================================================\n",
      " normalization (Normalizatio  (None, 18)               37        \n",
      " n)                                                              \n",
      "                                                                 \n",
      " dense (Dense)               (None, 18)                342       \n",
      "                                                                 \n",
      " dense_1 (Dense)             (None, 1)                 19        \n",
      "                                                                 \n",
      "=================================================================\n",
      "Total params: 398\n",
      "Trainable params: 361\n",
      "Non-trainable params: 37\n",
      "_________________________________________________________________\n"
     ]
    }
   ],
   "source": [
    "normalizer = tf.keras.layers.Normalization(axis=-1)\n",
    "normalizer.adapt(np.array(X_train))\n",
    "\n",
    "model = Sequential()\n",
    "model.add(normalizer)\n",
    "model.add(Dense(18, input_shape=(18,), activation='relu'))\n",
    "#model.add(Dense(18, input_dim=18, activation='relu'))\n",
    "model.add(Dense(1))\n",
    "model.summary()"
   ]
  },
  {
   "cell_type": "markdown",
   "metadata": {},
   "source": [
    "#### Compile Model\n",
    "\n",
    "Once a model is created we need to compile it. The complie step basically builds the layers we specified above and the loss and optimization parameters below together into a usable model object. When compiling the model we are providing it with the things it needs to calculate error:\n",
    "\n",
    "<ul>\n",
    "<li> Loss - we can provide a loss function that we'd like to use. \n",
    "<li> Optimizer - the optimizer is the algorithm that the model will use to perform the gradient descent to find the lowest error. Adam is a very common choice.\n",
    "<li> Learning rate - the learning rate is provided as a parameter of the optimizer. \n",
    "</ul>\n",
    "\n",
    "##### Optimizing Adam\n",
    "\n",
    "The optimizer is the algorithm used to perform the gradient descent and minimize error. For the most part this isn't something we need to be concerned about. The choice of optimizer is much more important if dealing with very large datasets because different optimizers have different levels of efficiency. For our purposes, we can use Adam and be pretty happy. Adam stands for Adaptive Moment Estimation which means basically that it will adjust itself depending on current gradients. It tends to be efficient both in time and memory, so it is very commonly used. "
   ]
  },
  {
   "cell_type": "code",
   "execution_count": 8,
   "metadata": {},
   "outputs": [],
   "source": [
    "model.compile(loss='mean_absolute_error', optimizer=tf.optimizers.Adam(learning_rate=.01))"
   ]
  },
  {
   "cell_type": "markdown",
   "metadata": {},
   "source": [
    "### Fit the Model\n",
    "\n",
    "The fit command does the same thing that we are used to, it trains the model, however there are some differences. The main difference is that batch_size is almost always set in neural networks, while the sklearn models just take all the data at once. \n",
    "\n",
    "What's a batch? Batches are just subsets of the data, so if the batch size is 100 the algorithm will grab 100 rows at a time before making an update to the weights and bias. There are a few reasons this exists:\n",
    "\n",
    "<ul>\n",
    "<li> Memory constraints - it is common with neural networks to deal with datasets that are extremely large. Processing data that can't fit entirely in RAM is very slow (the computer must swap data from the hard drive to RAM as it is needed) compared to data that is in RAM. Cutting the batch size can avoid this issue. \n",
    "<li> Speed - the math involved in the back propagation can sometimes be very computationally intensive. \n",
    "<li> Accuracy - batch size can have an impact on accuracy, though that impact is not very predictable. For the most part finding an optimal batch size will need to be grid-searched. \n",
    "</ul>\n",
    "\n",
    "The fit command also has the epoch paramater, which instructs on how many times to work through ALL of the data. We want to ensure we have enough epochs to find the optimal solution. \n",
    "\n",
    "#### Plot the Loss\n",
    "\n",
    "One very common visualization we see with neural networks is a plot of both training and validation loss vs number of epochs. Generally we'll see the training loss drop - first sharply as the model initially fits itself, then more slowly as it becomes more fitted. The validation loss will usually somewhat mirror the training loss, except it will often reach a minimum at some point before again increasing. This minimum point is our best model, when the validation loss starts increasing again, that is a sign that the model has become overfitted - customized to the training data, but less and less generalizable to new data. \n",
    "\n",
    "Set the verbosity to 1 in the fit to get a full list of the loss for each epoch to pinpoint the exact \"ideal\" number of epochs. We'll look more at this in a minute. "
   ]
  },
  {
   "cell_type": "code",
   "execution_count": 9,
   "metadata": {},
   "outputs": [
    {
     "name": "stdout",
     "output_type": "stream",
     "text": [
      "169/169 [==============================] - 0s 1ms/step - loss: 95278.4922\n"
     ]
    },
    {
     "data": {
      "image/png": "[encoded data removed]",
      "text/plain": [
       "<Figure size 432x288 with 1 Axes>"
      ]
     },
     "metadata": {
      "needs_background": "light"
     },
     "output_type": "display_data"
    }
   ],
   "source": [
    "train_log = model.fit(X_train, y_train, epochs=1000, batch_size=100, validation_split=.2, verbose=1)\n",
    "model.evaluate(X_test, y_test)\n",
    "plot_loss(train_log)"
   ]
  },
  {
   "cell_type": "markdown",
   "metadata": {},
   "source": [
    "### Exercise\n",
    "\n",
    "Make a simple neural network for predicting the price of homes in California. "
   ]
  },
  {
   "cell_type": "code",
   "execution_count": 10,
   "metadata": {},
   "outputs": [
    {
     "data": {
      "text/html": [
       "<div>\n",
       "<style scoped>\n",
       "    .dataframe tbody tr th:only-of-type {\n",
       "        vertical-align: middle;\n",
       "    }\n",
       "\n",
       "    .dataframe tbody tr th {\n",
       "        vertical-align: top;\n",
       "    }\n",
       "\n",
       "    .dataframe thead th {\n",
       "        text-align: right;\n",
       "    }\n",
       "</style>\n",
       "<table border=\"1\" class=\"dataframe\">\n",
       "  <thead>\n",
       "    <tr style=\"text-align: right;\">\n",
       "      <th></th>\n",
       "      <th>MedInc</th>\n",
       "      <th>HouseAge</th>\n",
       "      <th>AveRooms</th>\n",
       "      <th>AveBedrms</th>\n",
       "      <th>Population</th>\n",
       "      <th>AveOccup</th>\n",
       "      <th>Latitude</th>\n",
       "      <th>Longitude</th>\n",
       "    </tr>\n",
       "  </thead>\n",
       "  <tbody>\n",
       "    <tr>\n",
       "      <th>0</th>\n",
       "      <td>8.3252</td>\n",
       "      <td>41.0</td>\n",
       "      <td>6.984127</td>\n",
       "      <td>1.023810</td>\n",
       "      <td>322.0</td>\n",
       "      <td>2.555556</td>\n",
       "      <td>37.88</td>\n",
       "      <td>-122.23</td>\n",
       "    </tr>\n",
       "    <tr>\n",
       "      <th>1</th>\n",
       "      <td>8.3014</td>\n",
       "      <td>21.0</td>\n",
       "      <td>6.238137</td>\n",
       "      <td>0.971880</td>\n",
       "      <td>2401.0</td>\n",
       "      <td>2.109842</td>\n",
       "      <td>37.86</td>\n",
       "      <td>-122.22</td>\n",
       "    </tr>\n",
       "    <tr>\n",
       "      <th>2</th>\n",
       "      <td>7.2574</td>\n",
       "      <td>52.0</td>\n",
       "      <td>8.288136</td>\n",
       "      <td>1.073446</td>\n",
       "      <td>496.0</td>\n",
       "      <td>2.802260</td>\n",
       "      <td>37.85</td>\n",
       "      <td>-122.24</td>\n",
       "    </tr>\n",
       "    <tr>\n",
       "      <th>3</th>\n",
       "      <td>5.6431</td>\n",
       "      <td>52.0</td>\n",
       "      <td>5.817352</td>\n",
       "      <td>1.073059</td>\n",
       "      <td>558.0</td>\n",
       "      <td>2.547945</td>\n",
       "      <td>37.85</td>\n",
       "      <td>-122.25</td>\n",
       "    </tr>\n",
       "    <tr>\n",
       "      <th>4</th>\n",
       "      <td>3.8462</td>\n",
       "      <td>52.0</td>\n",
       "      <td>6.281853</td>\n",
       "      <td>1.081081</td>\n",
       "      <td>565.0</td>\n",
       "      <td>2.181467</td>\n",
       "      <td>37.85</td>\n",
       "      <td>-122.25</td>\n",
       "    </tr>\n",
       "  </tbody>\n",
       "</table>\n",
       "</div>"
      ],
      "text/plain": [
       "   MedInc  HouseAge  AveRooms  AveBedrms  Population  AveOccup  Latitude  \\\n",
       "0  8.3252      41.0  6.984127   1.023810       322.0  2.555556     37.88   \n",
       "1  8.3014      21.0  6.238137   0.971880      2401.0  2.109842     37.86   \n",
       "2  7.2574      52.0  8.288136   1.073446       496.0  2.802260     37.85   \n",
       "3  5.6431      52.0  5.817352   1.073059       558.0  2.547945     37.85   \n",
       "4  3.8462      52.0  6.281853   1.081081       565.0  2.181467     37.85   \n",
       "\n",
       "   Longitude  \n",
       "0    -122.23  \n",
       "1    -122.22  \n",
       "2    -122.24  \n",
       "3    -122.25  \n",
       "4    -122.25  "
      ]
     },
     "execution_count": 10,
     "metadata": {},
     "output_type": "execute_result"
    }
   ],
   "source": [
    "from sklearn.datasets import fetch_california_housing\n",
    "\n",
    "cal = fetch_california_housing(as_frame=True)\n",
    "Xcal = pd.DataFrame(cal.data)\n",
    "ycal = pd.DataFrame(cal.target)\n",
    "Xcal.head()"
   ]
  },
  {
   "cell_type": "code",
   "execution_count": 11,
   "metadata": {},
   "outputs": [
    {
     "data": {
      "text/plain": [
       "(15480, 8)"
      ]
     },
     "execution_count": 11,
     "metadata": {},
     "output_type": "execute_result"
    }
   ],
   "source": [
    "X_train_cal,  X_test_cal, y_train_cal, y_test_cal = train_test_split(Xcal, ycal)\n",
    "X_train_cal.shape"
   ]
  },
  {
   "cell_type": "code",
   "execution_count": 12,
   "metadata": {},
   "outputs": [
    {
     "name": "stdout",
     "output_type": "stream",
     "text": [
      "Model: \"sequential_1\"\n",
      "_________________________________________________________________\n",
      " Layer (type)                Output Shape              Param #   \n",
      "=================================================================\n",
      " normalization_1 (Normalizat  (None, 8)                17        \n",
      " ion)                                                            \n",
      "                                                                 \n",
      " dense_2 (Dense)             (None, 8)                 72        \n",
      "                                                                 \n",
      " dense_3 (Dense)             (None, 8)                 72        \n",
      "                                                                 \n",
      " dense_4 (Dense)             (None, 1)                 9         \n",
      "                                                                 \n",
      "=================================================================\n",
      "Total params: 170\n",
      "Trainable params: 153\n",
      "Non-trainable params: 17\n",
      "_________________________________________________________________\n"
     ]
    }
   ],
   "source": [
    "cal_normalizer = tf.keras.layers.Normalization(axis=-1)\n",
    "cal_normalizer.adapt(np.array(X_train_cal))\n",
    "\n",
    "cal_model = Sequential()\n",
    "cal_model.add(cal_normalizer)\n",
    "cal_model.add(Dense(8, input_shape=(8,), activation='relu'))\n",
    "cal_model.add(Dense(8, activation='relu'))\n",
    "cal_model.add(Dense(1))\n",
    "cal_model.summary()"
   ]
  },
  {
   "cell_type": "code",
   "execution_count": 13,
   "metadata": {},
   "outputs": [
    {
     "name": "stdout",
     "output_type": "stream",
     "text": [
      "Epoch 1/100\n",
      "248/248 [==============================] - 1s 2ms/step - loss: 2.5083 - val_loss: 0.8339\n",
      "Epoch 2/100\n",
      "248/248 [==============================] - 0s 1ms/step - loss: 0.9863 - val_loss: 0.6693\n",
      "Epoch 3/100\n",
      "248/248 [==============================] - 0s 1ms/step - loss: 0.7911 - val_loss: 0.5707\n",
      "Epoch 4/100\n",
      "248/248 [==============================] - 0s 2ms/step - loss: 0.6520 - val_loss: 0.4907\n",
      "Epoch 5/100\n",
      "248/248 [==============================] - 0s 1ms/step - loss: 0.5425 - val_loss: 0.4321\n",
      "Epoch 6/100\n",
      "248/248 [==============================] - 0s 2ms/step - loss: 0.4692 - val_loss: 0.3972\n",
      "Epoch 7/100\n",
      "248/248 [==============================] - 0s 1ms/step - loss: 0.4392 - val_loss: 0.3869\n",
      "Epoch 8/100\n",
      "248/248 [==============================] - 0s 1ms/step - loss: 0.4278 - val_loss: 0.3771\n",
      "Epoch 9/100\n",
      "248/248 [==============================] - 0s 1ms/step - loss: 0.4203 - val_loss: 0.3716\n",
      "Epoch 10/100\n",
      "248/248 [==============================] - 0s 1ms/step - loss: 0.4147 - val_loss: 0.3694\n",
      "Epoch 11/100\n",
      "248/248 [==============================] - 0s 1ms/step - loss: 0.4092 - val_loss: 0.3636\n",
      "Epoch 12/100\n",
      "248/248 [==============================] - 0s 1ms/step - loss: 0.4058 - val_loss: 0.3595\n",
      "Epoch 13/100\n",
      "248/248 [==============================] - 0s 1ms/step - loss: 0.4023 - val_loss: 0.3577\n",
      "Epoch 14/100\n",
      "248/248 [==============================] - 0s 1ms/step - loss: 0.3993 - val_loss: 0.3562\n",
      "Epoch 15/100\n",
      "248/248 [==============================] - 0s 1ms/step - loss: 0.3976 - val_loss: 0.3535\n",
      "Epoch 16/100\n",
      "248/248 [==============================] - 0s 1ms/step - loss: 0.3952 - val_loss: 0.3534\n",
      "Epoch 17/100\n",
      "248/248 [==============================] - 0s 1ms/step - loss: 0.3924 - val_loss: 0.3519\n",
      "Epoch 18/100\n",
      "248/248 [==============================] - 0s 1ms/step - loss: 0.3915 - val_loss: 0.3489\n",
      "Epoch 19/100\n",
      "248/248 [==============================] - 0s 2ms/step - loss: 0.3888 - val_loss: 0.3460\n",
      "Epoch 20/100\n",
      "248/248 [==============================] - 0s 1ms/step - loss: 0.3881 - val_loss: 0.3519\n",
      "Epoch 21/100\n",
      "248/248 [==============================] - 0s 1ms/step - loss: 0.3855 - val_loss: 0.3527\n",
      "Epoch 22/100\n",
      "248/248 [==============================] - 0s 1ms/step - loss: 0.3873 - val_loss: 0.3441\n",
      "Epoch 23/100\n",
      "248/248 [==============================] - 0s 1ms/step - loss: 0.3832 - val_loss: 0.3423\n",
      "Epoch 24/100\n",
      "248/248 [==============================] - 0s 1ms/step - loss: 0.3814 - val_loss: 0.3444\n",
      "Epoch 25/100\n",
      "248/248 [==============================] - 0s 1ms/step - loss: 0.3794 - val_loss: 0.3400\n",
      "Epoch 26/100\n",
      "248/248 [==============================] - 0s 1ms/step - loss: 0.3783 - val_loss: 0.3405\n",
      "Epoch 27/100\n",
      "248/248 [==============================] - 0s 2ms/step - loss: 0.3763 - val_loss: 0.3386\n",
      "Epoch 28/100\n",
      "248/248 [==============================] - 0s 2ms/step - loss: 0.3749 - val_loss: 0.3449\n",
      "Epoch 29/100\n",
      "248/248 [==============================] - 0s 2ms/step - loss: 0.3758 - val_loss: 0.3373\n",
      "Epoch 30/100\n",
      "248/248 [==============================] - 0s 2ms/step - loss: 0.3739 - val_loss: 0.3343\n",
      "Epoch 31/100\n",
      "248/248 [==============================] - 0s 1ms/step - loss: 0.3688 - val_loss: 0.3347\n",
      "Epoch 32/100\n",
      "248/248 [==============================] - 0s 1ms/step - loss: 0.3678 - val_loss: 0.3338\n",
      "Epoch 33/100\n",
      "248/248 [==============================] - 0s 2ms/step - loss: 0.3668 - val_loss: 0.3346\n",
      "Epoch 34/100\n",
      "248/248 [==============================] - 0s 2ms/step - loss: 0.3655 - val_loss: 0.3316\n",
      "Epoch 35/100\n",
      "248/248 [==============================] - 0s 2ms/step - loss: 0.3627 - val_loss: 0.3329\n",
      "Epoch 36/100\n",
      "248/248 [==============================] - 0s 2ms/step - loss: 0.3615 - val_loss: 0.3314\n",
      "Epoch 37/100\n",
      "248/248 [==============================] - 0s 2ms/step - loss: 0.3607 - val_loss: 0.3299\n",
      "Epoch 38/100\n",
      "248/248 [==============================] - 0s 1ms/step - loss: 0.3589 - val_loss: 0.3317\n",
      "Epoch 39/100\n",
      "248/248 [==============================] - 0s 1ms/step - loss: 0.3578 - val_loss: 0.3338\n",
      "Epoch 40/100\n",
      "248/248 [==============================] - 0s 2ms/step - loss: 0.3568 - val_loss: 0.3255\n",
      "Epoch 41/100\n",
      "248/248 [==============================] - 0s 2ms/step - loss: 0.3555 - val_loss: 0.3246\n",
      "Epoch 42/100\n",
      "248/248 [==============================] - 0s 2ms/step - loss: 0.3538 - val_loss: 0.3219\n",
      "Epoch 43/100\n",
      "248/248 [==============================] - 0s 1ms/step - loss: 0.3524 - val_loss: 0.3219\n",
      "Epoch 44/100\n",
      "248/248 [==============================] - 0s 2ms/step - loss: 0.3521 - val_loss: 0.3205\n",
      "Epoch 45/100\n",
      "248/248 [==============================] - 0s 2ms/step - loss: 0.3520 - val_loss: 0.3203\n",
      "Epoch 46/100\n",
      "248/248 [==============================] - 0s 2ms/step - loss: 0.3496 - val_loss: 0.3222\n",
      "Epoch 47/100\n",
      "248/248 [==============================] - 0s 2ms/step - loss: 0.3490 - val_loss: 0.3182\n",
      "Epoch 48/100\n",
      "248/248 [==============================] - 0s 2ms/step - loss: 0.3484 - val_loss: 0.3168\n",
      "Epoch 49/100\n",
      "248/248 [==============================] - 0s 2ms/step - loss: 0.3530 - val_loss: 0.3150\n",
      "Epoch 50/100\n",
      "248/248 [==============================] - 0s 2ms/step - loss: 0.3478 - val_loss: 0.3155\n",
      "Epoch 51/100\n",
      "248/248 [==============================] - 0s 2ms/step - loss: 0.3456 - val_loss: 0.3142\n",
      "Epoch 52/100\n",
      "248/248 [==============================] - 1s 2ms/step - loss: 0.3436 - val_loss: 0.3159\n",
      "Epoch 53/100\n",
      "248/248 [==============================] - 1s 2ms/step - loss: 0.3433 - val_loss: 0.3142\n",
      "Epoch 54/100\n",
      "248/248 [==============================] - 0s 2ms/step - loss: 0.3447 - val_loss: 0.3169\n",
      "Epoch 55/100\n",
      "248/248 [==============================] - 1s 2ms/step - loss: 0.3421 - val_loss: 0.3099\n",
      "Epoch 56/100\n",
      "248/248 [==============================] - 1s 2ms/step - loss: 0.3411 - val_loss: 0.3098\n",
      "Epoch 57/100\n",
      "248/248 [==============================] - 1s 2ms/step - loss: 0.3400 - val_loss: 0.3107\n",
      "Epoch 58/100\n",
      "248/248 [==============================] - 0s 2ms/step - loss: 0.3410 - val_loss: 0.3135\n",
      "Epoch 59/100\n",
      "248/248 [==============================] - 0s 2ms/step - loss: 0.3400 - val_loss: 0.3093\n",
      "Epoch 60/100\n",
      "248/248 [==============================] - 0s 2ms/step - loss: 0.3391 - val_loss: 0.3125\n",
      "Epoch 61/100\n",
      "248/248 [==============================] - 1s 2ms/step - loss: 0.3390 - val_loss: 0.3099\n",
      "Epoch 62/100\n",
      "248/248 [==============================] - 1s 2ms/step - loss: 0.3388 - val_loss: 0.3075\n",
      "Epoch 63/100\n",
      "248/248 [==============================] - 1s 2ms/step - loss: 0.3371 - val_loss: 0.3061\n",
      "Epoch 64/100\n",
      "248/248 [==============================] - 0s 2ms/step - loss: 0.3364 - val_loss: 0.3053\n",
      "Epoch 65/100\n",
      "248/248 [==============================] - 0s 2ms/step - loss: 0.3354 - val_loss: 0.3080\n",
      "Epoch 66/100\n",
      "248/248 [==============================] - 0s 2ms/step - loss: 0.3347 - val_loss: 0.3064\n",
      "Epoch 67/100\n",
      "248/248 [==============================] - 0s 2ms/step - loss: 0.3342 - val_loss: 0.3176\n",
      "Epoch 68/100\n",
      "248/248 [==============================] - 0s 2ms/step - loss: 0.3356 - val_loss: 0.3086\n",
      "Epoch 69/100\n",
      "248/248 [==============================] - 0s 2ms/step - loss: 0.3333 - val_loss: 0.3052\n",
      "Epoch 70/100\n",
      "248/248 [==============================] - 0s 2ms/step - loss: 0.3355 - val_loss: 0.3045\n",
      "Epoch 71/100\n",
      "248/248 [==============================] - 0s 2ms/step - loss: 0.3332 - val_loss: 0.3031\n",
      "Epoch 72/100\n",
      "248/248 [==============================] - 0s 2ms/step - loss: 0.3329 - val_loss: 0.3055\n",
      "Epoch 73/100\n",
      "248/248 [==============================] - 0s 2ms/step - loss: 0.3318 - val_loss: 0.3024\n",
      "Epoch 74/100\n",
      "248/248 [==============================] - 0s 1ms/step - loss: 0.3336 - val_loss: 0.3041\n",
      "Epoch 75/100\n",
      "248/248 [==============================] - 0s 1ms/step - loss: 0.3347 - val_loss: 0.3011\n",
      "Epoch 76/100\n",
      "248/248 [==============================] - 0s 1ms/step - loss: 0.3324 - val_loss: 0.3066\n",
      "Epoch 77/100\n",
      "248/248 [==============================] - 0s 1ms/step - loss: 0.3327 - val_loss: 0.3033\n",
      "Epoch 78/100\n",
      "248/248 [==============================] - 0s 2ms/step - loss: 0.3319 - val_loss: 0.3082\n",
      "Epoch 79/100\n",
      "248/248 [==============================] - 0s 2ms/step - loss: 0.3311 - val_loss: 0.3045\n",
      "Epoch 80/100\n",
      "248/248 [==============================] - 0s 2ms/step - loss: 0.3300 - val_loss: 0.3046\n",
      "Epoch 81/100\n",
      "248/248 [==============================] - 0s 2ms/step - loss: 0.3309 - val_loss: 0.3016\n",
      "Epoch 82/100\n",
      "248/248 [==============================] - 0s 2ms/step - loss: 0.3304 - val_loss: 0.3023\n",
      "Epoch 83/100\n",
      "248/248 [==============================] - 0s 1ms/step - loss: 0.3291 - val_loss: 0.3023\n",
      "Epoch 84/100\n",
      "248/248 [==============================] - 0s 2ms/step - loss: 0.3301 - val_loss: 0.3034\n",
      "Epoch 85/100\n",
      "248/248 [==============================] - 0s 2ms/step - loss: 0.3292 - val_loss: 0.2999\n",
      "Epoch 86/100\n",
      "248/248 [==============================] - 0s 2ms/step - loss: 0.3285 - val_loss: 0.3006\n",
      "Epoch 87/100\n",
      "248/248 [==============================] - 0s 1ms/step - loss: 0.3292 - val_loss: 0.2984\n",
      "Epoch 88/100\n",
      "248/248 [==============================] - 0s 2ms/step - loss: 0.3284 - val_loss: 0.2979\n",
      "Epoch 89/100\n",
      "248/248 [==============================] - 0s 2ms/step - loss: 0.3282 - val_loss: 0.3001\n",
      "Epoch 90/100\n",
      "248/248 [==============================] - 0s 2ms/step - loss: 0.3280 - val_loss: 0.3030\n",
      "Epoch 91/100\n",
      "248/248 [==============================] - 0s 2ms/step - loss: 0.3282 - val_loss: 0.2982\n",
      "Epoch 92/100\n",
      "248/248 [==============================] - 0s 2ms/step - loss: 0.3272 - val_loss: 0.3003\n",
      "Epoch 93/100\n",
      "248/248 [==============================] - 0s 2ms/step - loss: 0.3271 - val_loss: 0.2991\n",
      "Epoch 94/100\n",
      "248/248 [==============================] - 0s 1ms/step - loss: 0.3262 - val_loss: 0.3047\n",
      "Epoch 95/100\n",
      "248/248 [==============================] - 0s 2ms/step - loss: 0.3263 - val_loss: 0.2971\n",
      "Epoch 96/100\n",
      "248/248 [==============================] - 0s 1ms/step - loss: 0.3283 - val_loss: 0.3028\n",
      "Epoch 97/100\n",
      "248/248 [==============================] - 0s 2ms/step - loss: 0.3263 - val_loss: 0.2961\n",
      "Epoch 98/100\n",
      "248/248 [==============================] - 0s 1ms/step - loss: 0.3253 - val_loss: 0.2989\n",
      "Epoch 99/100\n",
      "248/248 [==============================] - 0s 1ms/step - loss: 0.3250 - val_loss: 0.3024\n",
      "Epoch 100/100\n",
      "248/248 [==============================] - 0s 1ms/step - loss: 0.3237 - val_loss: 0.2965\n",
      "162/162 [==============================] - 0s 890us/step - loss: 0.3097\n"
     ]
    },
    {
     "data": {
      "image/png": "[encoded data removed]",
      "text/plain": [
       "<Figure size 432x288 with 1 Axes>"
      ]
     },
     "metadata": {
      "needs_background": "light"
     },
     "output_type": "display_data"
    }
   ],
   "source": [
    "cal_model.compile(loss='mean_squared_error', optimizer=tf.optimizers.Adam())\n",
    "cal_train_log = cal_model.fit(X_train_cal, y_train_cal, epochs=100, batch_size=50, validation_split=.2, verbose=1)\n",
    "cal_model.evaluate(X_test_cal, y_test_cal)\n",
    "plot_loss(cal_train_log)"
   ]
  },
  {
   "cell_type": "markdown",
   "metadata": {},
   "source": [
    "## Basics of Overfitting and Underfitting in Neural Networks\n",
    "\n",
    "Just like any other type of model, our primary task in trying to attain an accurate set of predictions is to balance the overfitting and underfitting. In a neural network, the ideas are the same as with standard models, however the tools and their usage can differ slightly. \n",
    "\n",
    "### Add Data\n",
    "\n",
    "Adding data to the training set is the number one way to improve accuracy. As noted above, neural networks are commonly able to acheive very high accuracy levels if provided with very large training sets. For smaller datasets, the probability of a neural network being the best model is much lower than with big data. \n",
    "\n",
    "### Model Capacity\n",
    "\n",
    "The model capacity is the \"size\" of the model - refering to the combination of the number of neurons on each layer and the number of layers. \n",
    "\n",
    "In general the larger a feature set is, the larger a capacity we will need to be able to avoid underfitting and make accurate predictions. However, similar to a decision tree, if the model becomes too large for the data, we are likely to overfit. \n",
    "\n",
    "In big data scenarios (e.g. Google or Tesla training image recognition models) the feature sets can be massive (e.g. a 5 megapixel image is at least 15 million features) so the networks used have a very high capacity. Because there is a lot of training data, the model is able to have a huge capacity, but not overfit. These models can take FOREVER to process (e.g. weeks with the work paralellized on dedicated and fast machines) but they are able to make very accurate predictions since they get all the \"benefits\" of overfitting - predictions highly tailored to the training data; along with all the \"benefits\" of underfitting - since there is so much training data, they are still generalized enough to predict new data. \n",
    "\n",
    "The combination of large datasets, deep networks, and fast processing allows for most of the modern AI that we see or interact with. "
   ]
  },
  {
   "cell_type": "code",
   "execution_count": 14,
   "metadata": {},
   "outputs": [
    {
     "name": "stdout",
     "output_type": "stream",
     "text": [
      "Model: \"sequential_2\"\n",
      "_________________________________________________________________\n",
      " Layer (type)                Output Shape              Param #   \n",
      "=================================================================\n",
      " normalization_2 (Normalizat  (None, 18)               37        \n",
      " ion)                                                            \n",
      "                                                                 \n",
      " dense_5 (Dense)             (None, 128)               2432      \n",
      "                                                                 \n",
      " dense_6 (Dense)             (None, 128)               16512     \n",
      "                                                                 \n",
      " dense_7 (Dense)             (None, 128)               16512     \n",
      "                                                                 \n",
      " dense_8 (Dense)             (None, 128)               16512     \n",
      "                                                                 \n",
      " dense_9 (Dense)             (None, 1)                 129       \n",
      "                                                                 \n",
      "=================================================================\n",
      "Total params: 52,134\n",
      "Trainable params: 52,097\n",
      "Non-trainable params: 37\n",
      "_________________________________________________________________\n"
     ]
    }
   ],
   "source": [
    "#Test Different Model Capacities\n",
    "normalizer = tf.keras.layers.Normalization(axis=-1)\n",
    "normalizer.adapt(np.array(X_train))\n",
    "\n",
    "model = Sequential()\n",
    "model.add(normalizer)\n",
    "model.add(Dense(128, input_dim=18, activation='relu'))\n",
    "model.add(Dense(128, activation='relu'))\n",
    "model.add(Dense(128, activation='relu'))\n",
    "model.add(Dense(128, activation='relu'))\n",
    "model.add(Dense(1))\n",
    "model.summary()"
   ]
  },
  {
   "cell_type": "code",
   "execution_count": 15,
   "metadata": {},
   "outputs": [
    {
     "name": "stdout",
     "output_type": "stream",
     "text": [
      "169/169 [==============================] - 0s 999us/step - loss: 69814.2031\n"
     ]
    },
    {
     "data": {
      "image/png": "[encoded data removed]",
      "text/plain": [
       "<Figure size 432x288 with 1 Axes>"
      ]
     },
     "metadata": {
      "needs_background": "light"
     },
     "output_type": "display_data"
    }
   ],
   "source": [
    "model.compile(loss='mean_absolute_error', optimizer=tf.optimizers.Adam(learning_rate=.01))\n",
    "train_log = model.fit(X_train, y_train, epochs=1000, batch_size=1000, validation_split=.2, verbose=0)\n",
    "model.evaluate(X_test, y_test)\n",
    "plot_loss(train_log)"
   ]
  },
  {
   "cell_type": "markdown",
   "metadata": {},
   "source": [
    "### Early Stopping\n",
    "\n",
    "Early stopping is very common with neural networks, due to the common pattern mentioned above of the optimal balance of over/under fitting occuring at some point within many, potentially thousands, of epochs. Early stopping kills the process after it detects that validation loss is going back up. \n",
    "\n",
    "We can put early stopping in place by using a Keras function called a callback, which has odd syntax, but is quite simple to use. The patience pararmeter controls how many epcohs of worsening scores are tolerated before implementing the stop. The restore_best_weights tells the model to roll back all of its weights to the optimal point - so we automatically get the best model post-training. \n",
    "\n",
    "In most cases we probabyl want to use early stopping along with a high epoch number. We can let the model train, and just tell us when it is finished. "
   ]
  },
  {
   "cell_type": "code",
   "execution_count": 16,
   "metadata": {},
   "outputs": [],
   "source": [
    "normalizer = tf.keras.layers.Normalization(axis=-1)\n",
    "normalizer.adapt(np.array(X_train))\n",
    "\n",
    "model = Sequential()\n",
    "model.add(normalizer)\n",
    "model.add(Dense(18, input_dim=18, activation='relu'))\n",
    "model.add(Dense(18, activation='relu'))\n",
    "model.add(Dense(18, activation='relu'))\n",
    "model.add(Dense(1))\n",
    "#model.summary()"
   ]
  },
  {
   "cell_type": "code",
   "execution_count": 17,
   "metadata": {},
   "outputs": [
    {
     "name": "stdout",
     "output_type": "stream",
     "text": [
      "169/169 [==============================] - 0s 1ms/step - loss: 93317.9062\n"
     ]
    },
    {
     "data": {
      "image/png": "[encoded data removed]",
      "text/plain": [
       "<Figure size 432x288 with 1 Axes>"
      ]
     },
     "metadata": {
      "needs_background": "light"
     },
     "output_type": "display_data"
    }
   ],
   "source": [
    "callback = tf.keras.callbacks.EarlyStopping(monitor='loss', patience=50, restore_best_weights=True) \n",
    "\n",
    "model.compile(loss='mean_absolute_error', optimizer=tf.optimizers.Adam(learning_rate=.01))\n",
    "train_log = model.fit(X_train, y_train, epochs=1000, batch_size=100, validation_split=.2, verbose=0, callbacks=[callback])\n",
    "model.evaluate(X_test, y_test)\n",
    "plot_loss(train_log)"
   ]
  },
  {
   "cell_type": "markdown",
   "metadata": {},
   "source": [
    "### Regularization\n",
    "\n",
    "Like other linear models, we can implement regularization to help tame overfitting. \n",
    "\n",
    "We can use both L2 (Ridge) regularization that will limit growth of coefficients, and L1 (Lasso) regularization that is able to eliminate features by shrinking their coefficients to 0. The functionality is the same as we are used to, a regularization term is added to the loss, and the optimization, such as gradient descent, is then performed as normal. "
   ]
  },
  {
   "cell_type": "code",
   "execution_count": 18,
   "metadata": {},
   "outputs": [
    {
     "name": "stdout",
     "output_type": "stream",
     "text": [
      "Model: \"sequential_4\"\n",
      "_________________________________________________________________\n",
      " Layer (type)                Output Shape              Param #   \n",
      "=================================================================\n",
      " normalization_4 (Normalizat  (None, 18)               37        \n",
      " ion)                                                            \n",
      "                                                                 \n",
      " dense_14 (Dense)            (None, 128)               2432      \n",
      "                                                                 \n",
      " dense_15 (Dense)            (None, 128)               16512     \n",
      "                                                                 \n",
      " dense_16 (Dense)            (None, 128)               16512     \n",
      "                                                                 \n",
      " dense_17 (Dense)            (None, 1)                 129       \n",
      "                                                                 \n",
      "=================================================================\n",
      "Total params: 35,622\n",
      "Trainable params: 35,585\n",
      "Non-trainable params: 37\n",
      "_________________________________________________________________\n"
     ]
    }
   ],
   "source": [
    "# Regularization\n",
    "normalizer = tf.keras.layers.Normalization(axis=-1)\n",
    "normalizer.adapt(np.array(X_train))\n",
    "\n",
    "model = Sequential()\n",
    "model.add(normalizer)\n",
    "model.add(Dense(128, input_dim=18, activation='relu'))\n",
    "model.add(Dense(128, activation='relu', kernel_regularizer=\"l1\"))\n",
    "model.add(Dense(128, activation='relu', kernel_regularizer=\"l1\"))\n",
    "model.add(Dense(1))\n",
    "model.summary()"
   ]
  },
  {
   "cell_type": "code",
   "execution_count": 19,
   "metadata": {},
   "outputs": [
    {
     "name": "stdout",
     "output_type": "stream",
     "text": [
      "169/169 [==============================] - 0s 2ms/step - loss: 65897.8359\n"
     ]
    },
    {
     "data": {
      "image/png": "[encoded data removed]",
      "text/plain": [
       "<Figure size 432x288 with 1 Axes>"
      ]
     },
     "metadata": {
      "needs_background": "light"
     },
     "output_type": "display_data"
    }
   ],
   "source": [
    "model.compile(loss='mean_absolute_error', optimizer=tf.optimizers.Adam(learning_rate=.01))\n",
    "train_log = model.fit(X_train, y_train, epochs=100, batch_size=100, validation_split=.2, verbose=0)\n",
    "model.evaluate(X_test, y_test)\n",
    "plot_loss(train_log)"
   ]
  },
  {
   "cell_type": "markdown",
   "metadata": {},
   "source": [
    "### Dropout\n",
    "\n",
    "Neural networks also commonly employ a technique call dropouts to prevent overfitting. This works just like the name says, every time the data is moved from one layer to another some portion of the features are randomly held out from being used. \n",
    "\n",
    "The intuitive explanation for dropout is that because individual nodes in the network cannot rely on the output of the others, each node must output features that are useful on their own. This sounds somewhat weird, but is actually effective. The number of features held out is called the dropout rate, typically between .2 and .5. \n",
    "\n",
    "An analogy can be drawn to the bootstrapping we looked at with trees - some random subset of features is selected each time, resulting in each batch getting \"a slightly different look at the data\", thus preventing overfitting. "
   ]
  },
  {
   "cell_type": "code",
   "execution_count": 20,
   "metadata": {},
   "outputs": [
    {
     "name": "stdout",
     "output_type": "stream",
     "text": [
      "Model: \"sequential_5\"\n",
      "_________________________________________________________________\n",
      " Layer (type)                Output Shape              Param #   \n",
      "=================================================================\n",
      " normalization_5 (Normalizat  (None, 18)               37        \n",
      " ion)                                                            \n",
      "                                                                 \n",
      " dense_18 (Dense)            (None, 512)               9728      \n",
      "                                                                 \n",
      " dense_19 (Dense)            (None, 512)               262656    \n",
      "                                                                 \n",
      " dropout (Dropout)           (None, 512)               0         \n",
      "                                                                 \n",
      " dense_20 (Dense)            (None, 512)               262656    \n",
      "                                                                 \n",
      " dropout_1 (Dropout)         (None, 512)               0         \n",
      "                                                                 \n",
      " dense_21 (Dense)            (None, 512)               262656    \n",
      "                                                                 \n",
      " dense_22 (Dense)            (None, 1)                 513       \n",
      "                                                                 \n",
      "=================================================================\n",
      "Total params: 798,246\n",
      "Trainable params: 798,209\n",
      "Non-trainable params: 37\n",
      "_________________________________________________________________\n"
     ]
    }
   ],
   "source": [
    "# Dropout\n",
    "#Test Different Model Capacities\n",
    "normalizer = tf.keras.layers.Normalization(axis=-1)\n",
    "normalizer.adapt(np.array(X_train))\n",
    "\n",
    "model = Sequential()\n",
    "model.add(normalizer)\n",
    "model.add(Dense(512, input_dim=18, activation='relu'))\n",
    "model.add(Dense(512, activation='relu'))\n",
    "model.add(Dropout(0.2))\n",
    "model.add(Dense(512, activation='relu'))\n",
    "model.add(Dropout(0.2))\n",
    "model.add(Dense(512, activation='relu'))\n",
    "model.add(Dense(1))\n",
    "model.summary()"
   ]
  },
  {
   "cell_type": "code",
   "execution_count": 21,
   "metadata": {},
   "outputs": [],
   "source": [
    "model.compile(loss='mean_absolute_error', optimizer=tf.optimizers.Adam(learning_rate=.01))\n",
    "train_log = model.fit(X_train, y_train, epochs=1000, batch_size=100, validation_split=.2, verbose=0)\n",
    "model.evaluate(X_test, y_test)\n",
    "plot_loss(train_log)"
   ]
  },
  {
   "cell_type": "markdown",
   "metadata": {},
   "source": [
    "### Predictions\n",
    "\n",
    "Once the model is trained, using it is mostly familiar to us from the sklearn stuff. "
   ]
  },
  {
   "cell_type": "code",
   "execution_count": null,
   "metadata": {},
   "outputs": [
    {
     "data": {
      "text/plain": [
       "76826.51743066478"
      ]
     },
     "execution_count": 44,
     "metadata": {},
     "output_type": "execute_result"
    }
   ],
   "source": [
    "preds = model.predict(X_test)\n",
    "mean_absolute_error(y_test, preds)\n"
   ]
  },
  {
   "cell_type": "markdown",
   "metadata": {},
   "source": [
    "### Exercise\n",
    "\n",
    "Use the California data from previously and try to add some regularization things."
   ]
  },
  {
   "cell_type": "code",
   "execution_count": null,
   "metadata": {},
   "outputs": [],
   "source": []
  },
  {
   "cell_type": "markdown",
   "metadata": {},
   "source": [
    "### Customized Loss\n",
    "\n",
    "Most scenarios are totally fine with a standard loss function, but what if we have something odd? What if we are playing on The Price is Right? We want to get as close as we can, without going over. We can write a loss function to mirror that!\n",
    "\n",
    "More practically, some real life scenarios have a disperse impact of different types of error. For example, if you are working for a call centre and predicting the number of agents to staff. Having slightly too many may be an error that costs a little bit of money, but not that big of a deal. Predicting too few might incur serious penalties if callers wait and you violate an SLA. Being off in one direction is bad, being off in the other direction can cause you to \"fall off of a cliff\" so to speak. In cases where the impact of the error is not uniform, custom loss functions may make sense. "
   ]
  },
  {
   "cell_type": "code",
   "execution_count": null,
   "metadata": {},
   "outputs": [],
   "source": [
    "def priceIsRight(y_true, y_pred):\n",
    "    if y_pred <= y_true:\n",
    "        return (y_true - y_pred) ** 2\n",
    "    else:\n",
    "        return (y_true - y_pred) ** 4"
   ]
  },
  {
   "cell_type": "markdown",
   "metadata": {},
   "source": [
    "## Optional Exercise\n",
    "\n",
    "Try to use the California data with a customized loss function. \n",
    "\n",
    "Note: this is a 20 way classification, so you'll probably want that many neurons on the output layer, an appropriate activation (softmax), and the y values will need to be run through np_utils.to_categorical. As well, think about the loss function, try categorical crossentropy.\n",
    "\n",
    "We'll look at activation and loss functions more next week. "
   ]
  },
  {
   "cell_type": "markdown",
   "metadata": {},
   "source": [
    "## Big Exercise - Newsgroup Classification\n",
    "\n",
    "Try to classify the newsgroup data. "
   ]
  },
  {
   "cell_type": "code",
   "execution_count": null,
   "metadata": {},
   "outputs": [],
   "source": [
    "from sklearn.datasets import fetch_20newsgroups\n",
    "from sklearn.feature_extraction.text import TfidfVectorizer\n",
    "from sklearn.decomposition import TruncatedSVD\n",
    "\n",
    "remove = (\"headers\", \"footers\", \"quotes\")\n",
    "\n",
    "data_train = fetch_20newsgroups(\n",
    "    subset=\"train\", shuffle=True, remove=remove)\n",
    "\n",
    "data_test = fetch_20newsgroups(\n",
    "    subset=\"test\", shuffle=True, remove=remove)"
   ]
  },
  {
   "cell_type": "code",
   "execution_count": null,
   "metadata": {},
   "outputs": [
    {
     "name": "stdout",
     "output_type": "stream",
     "text": [
      "Train: (11314, 1971374)   Test: (7532, 1971374)\n"
     ]
    }
   ],
   "source": [
    "news_tf = TfidfVectorizer(sublinear_tf=True, ngram_range=(1,3), stop_words=\"english\", strip_accents=\"unicode\")\n",
    "X_train = news_tf.fit_transform(data_train.data)\n",
    "y_train = data_train.target\n",
    "X_test = news_tf.transform(data_test.data)\n",
    "y_test = data_test.target\n",
    "print(\"Train:\", X_train.shape, \"  Test:\", X_test.shape)"
   ]
  },
  {
   "cell_type": "code",
   "execution_count": null,
   "metadata": {},
   "outputs": [],
   "source": [
    "y_test = np_utils.to_categorical(y_test)\n",
    "y_train = np_utils.to_categorical(y_train)"
   ]
  },
  {
   "cell_type": "code",
   "execution_count": null,
   "metadata": {},
   "outputs": [],
   "source": [
    "in_size = 200\n",
    "tsvd = TruncatedSVD(n_components=in_size)\n",
    "X_train = tsvd.fit_transform(X_train)\n",
    "X_test = tsvd.transform(X_test)"
   ]
  },
  {
   "cell_type": "code",
   "execution_count": null,
   "metadata": {},
   "outputs": [
    {
     "name": "stderr",
     "output_type": "stream",
     "text": [
      "2022-03-16 18:44:17.940782: I tensorflow/core/platform/cpu_feature_guard.cc:151] This TensorFlow binary is optimized with oneAPI Deep Neural Network Library (oneDNN) to use the following CPU instructions in performance-critical operations:  AVX2 AVX512F FMA\n",
      "To enable them in other operations, rebuild TensorFlow with the appropriate compiler flags.\n"
     ]
    }
   ],
   "source": [
    "model = Sequential()\n",
    "model.add(Dense(in_size, input_dim=in_size, activation='relu'))\n",
    "model.add(Dense(in_size, activation='relu'))\n",
    "model.add(Dropout(0.2))\n",
    "model.add(Dense(in_size, activation='relu'))\n",
    "model.add(Dropout(0.2))\n",
    "model.add(Dense(in_size, activation='relu'))\n",
    "model.add(Dense(20, activation=\"softmax\"))\n",
    "model.summary()"
   ]
  },
  {
   "cell_type": "code",
   "execution_count": null,
   "metadata": {},
   "outputs": [],
   "source": [
    "callback = tf.keras.callbacks.EarlyStopping(monitor='val_loss', patience=5, restore_best_weights=True) \n",
    "\n",
    "model.compile(loss=\"categorical_crossentropy\", optimizer=\"Adam\", metrics=[\"accuracy\"])\n",
    "train_log = model.fit(X_train, y_train, epochs=100, batch_size=100, validation_split=.2, verbose=0, callbacks=[callback])\n",
    "model.evaluate(X_test, y_test)\n",
    "plot_loss(train_log)"
   ]
  }
 ],
 "metadata": {
  "interpreter": {
   "hash": "4d722d3adfa415172c1f5238b519fb86b488acdae450fd691ab06c09f4ca9173"
  },
  "kernelspec": {
   "display_name": "Python 3.9.7 ('ml3950')",
   "language": "python",
   "name": "python3"
  },
  "language_info": {
   "codemirror_mode": {
    "name": "ipython",
    "version": 3
   },
   "file_extension": ".py",
   "mimetype": "text/x-python",
   "name": "python",
   "nbconvert_exporter": "python",
   "pygments_lexer": "ipython3",
   "version": "3.9.7"
  },
  "orig_nbformat": 4
 },
 "nbformat": 4,
 "nbformat_minor": 2
}
